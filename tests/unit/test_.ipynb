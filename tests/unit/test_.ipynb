{
 "cells": [
  {
   "cell_type": "code",
   "execution_count": 7,
   "id": "71d198a9",
   "metadata": {},
   "outputs": [],
   "source": [
    "import os\n",
    "import sys\n",
    "import time\n",
    "import glob\n",
    "import threading\n",
    "import multiprocessing\n",
    "from pathlib import Path\n",
    "from concurrent.futures import ThreadPoolExecutor, as_completed\n",
    "from functools import lru_cache\n",
    "import warnings\n",
    "\n",
    "import numpy as np\n",
    "import pandas as pd\n",
    "import matplotlib\n",
    "matplotlib.use('Agg')  # Use non-interactive backend\n",
    "import matplotlib.pyplot as plt\n",
    "from scipy.optimize import curve_fit\n",
    "from scipy.signal import find_peaks\n",
    "from scipy import stats\n",
    "from astropy.timeseries import LombScargle\n",
    "csv_file_path = \"/Users/albert-mac/Code/GitHub/CPR/data/Ic/435Ic.csv\"\n",
    "dataid = Path(csv_file_path).stem\n",
    "            \n",
    "# 加載數據\n",
    "df = pd.read_csv(csv_file_path)\n",
    "x_data = df['y_field'].values.astype(np.float64)\n",
    "y_data = df['Ic'].values.astype(np.float64)\n",
    "\n",
    "# 數據清理\n",
    "valid_mask = np.isfinite(x_data) & np.isfinite(y_data)\n",
    "# if not np.any(valid_mask):\n",
    "#     return {\n",
    "#         'dataid': dataid,\n",
    "#         'success': False,\n",
    "#         'error': 'All data points are NaN or infinite'\n",
    "#     }\n",
    "\n",
    "x_data = x_data[valid_mask]\n",
    "y_data = y_data[valid_mask]\n",
    "\n",
    "# 移除前10個點\n",
    "if len(x_data) >= 10:\n",
    "    x_data = x_data[10:]\n",
    "    y_data = y_data[10:]\n",
    "\n",
    "# if len(x_data) < 20:\n",
    "    # return {\n",
    "    #     'dataid': dataid,\n",
    "    #     'success': False,\n",
    "    #     'error': f'Insufficient data points ({len(x_data)} < 20)'\n",
    "    # }\n",
    "# Shift data to start from zero\n",
    "x_shifted = x_data - x_data[0]\n",
    "y_shifted = y_data - np.min(y_data)\n",
    "\n",
    "# Calculate normalization factors\n",
    "x_factor = np.abs(x_shifted[2] - x_shifted[1]) if len(x_shifted) > 2 else 1.0\n",
    "y_factor = np.abs(y_shifted[2] - y_shifted[1]) if len(y_shifted) > 2 else 1.0\n",
    "\n",
    "# Avoid division by zero\n",
    "x_factor = max(x_factor, 1e-12)\n",
    "y_factor = max(y_factor, 1e-12)\n",
    "\n",
    "# Normalize\n",
    "x_normalized = x_shifted / x_factor\n",
    "y_normalized = y_shifted / y_factor"
   ]
  },
  {
   "cell_type": "code",
   "execution_count": 8,
   "id": "85ca902e",
   "metadata": {},
   "outputs": [
    {
     "data": {
      "text/plain": [
       "np.float64(1.9999999999989644e-07)"
      ]
     },
     "execution_count": 8,
     "metadata": {},
     "output_type": "execute_result"
    }
   ],
   "source": [
    "x_factor"
   ]
  },
  {
   "cell_type": "code",
   "execution_count": 9,
   "id": "2c0c9ac0",
   "metadata": {},
   "outputs": [
    {
     "data": {
      "text/plain": [
       "1e-12"
      ]
     },
     "execution_count": 9,
     "metadata": {},
     "output_type": "execute_result"
    }
   ],
   "source": [
    "y_factor"
   ]
  },
  {
   "cell_type": "code",
   "execution_count": 11,
   "id": "b69ae62e",
   "metadata": {},
   "outputs": [
    {
     "data": {
      "text/plain": [
       "array([1.75e-06, 7.50e-07, 7.50e-07, 1.00e-06, 5.00e-07, 5.00e-07,\n",
       "       1.50e-06, 2.00e-06, 2.25e-06, 2.00e-06, 1.25e-06, 2.25e-06,\n",
       "       2.75e-06, 3.00e-06, 2.75e-06, 3.25e-06, 4.00e-06, 4.00e-06,\n",
       "       4.75e-06, 5.00e-06, 4.75e-06, 5.25e-06, 5.25e-06, 5.50e-06,\n",
       "       6.00e-06, 6.25e-06, 6.25e-06, 6.25e-06, 7.00e-06, 6.75e-06,\n",
       "       7.00e-06, 7.00e-06, 7.00e-06, 6.50e-06, 6.75e-06, 6.25e-06,\n",
       "       6.00e-06, 5.75e-06, 5.25e-06, 5.25e-06, 4.50e-06, 3.25e-06,\n",
       "       3.75e-06, 2.50e-06, 1.25e-06, 1.25e-06, 1.00e-06, 2.50e-07,\n",
       "       0.00e+00, 2.50e-07, 1.00e-06, 1.00e-06, 1.50e-06, 1.25e-06,\n",
       "       1.50e-06, 2.50e-06, 3.00e-06, 3.25e-06, 3.25e-06, 4.00e-06,\n",
       "       4.00e-06, 4.50e-06, 4.50e-06, 5.50e-06, 5.50e-06, 6.00e-06,\n",
       "       6.25e-06, 6.50e-06, 6.25e-06, 6.75e-06, 6.50e-06, 6.75e-06,\n",
       "       7.00e-06, 6.75e-06, 6.50e-06, 6.25e-06, 6.25e-06, 6.00e-06,\n",
       "       4.25e-06, 4.00e-06, 3.25e-06, 2.50e-06, 2.75e-06, 1.00e-06,\n",
       "       2.50e-07, 1.00e-06, 0.00e+00, 2.50e-07, 2.50e-07, 7.50e-07,\n",
       "       1.25e-06, 1.00e-06, 1.50e-06, 1.75e-06, 2.25e-06, 3.50e-06,\n",
       "       2.75e-06, 3.25e-06, 3.50e-06, 4.00e-06, 4.50e-06, 4.00e-06,\n",
       "       4.75e-06, 5.50e-06, 5.25e-06, 5.75e-06, 5.75e-06, 6.25e-06,\n",
       "       6.25e-06, 6.50e-06, 6.75e-06, 6.75e-06, 6.75e-06, 6.00e-06,\n",
       "       6.50e-06, 6.00e-06, 5.25e-06, 4.50e-06, 4.50e-06, 2.25e-06,\n",
       "       3.75e-06, 2.25e-06, 2.00e-06, 5.00e-07, 0.00e+00, 0.00e+00,\n",
       "       2.50e-07, 7.50e-07, 5.00e-07, 7.50e-07, 7.50e-07, 1.75e-06,\n",
       "       2.50e-06, 2.25e-06, 2.75e-06, 2.25e-06, 3.25e-06, 3.25e-06,\n",
       "       4.00e-06, 4.50e-06, 4.50e-06])"
      ]
     },
     "execution_count": 11,
     "metadata": {},
     "output_type": "execute_result"
    }
   ],
   "source": [
    "y_shifted"
   ]
  }
 ],
 "metadata": {
  "kernelspec": {
   "display_name": "py3.11",
   "language": "python",
   "name": "python3"
  },
  "language_info": {
   "codemirror_mode": {
    "name": "ipython",
    "version": 3
   },
   "file_extension": ".py",
   "mimetype": "text/x-python",
   "name": "python",
   "nbconvert_exporter": "python",
   "pygments_lexer": "ipython3",
   "version": "3.11.11"
  }
 },
 "nbformat": 4,
 "nbformat_minor": 5
}
